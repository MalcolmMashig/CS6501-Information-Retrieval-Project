{
  "nbformat": 4,
  "nbformat_minor": 0,
  "metadata": {
    "colab": {
      "name": "issue_query.ipynb",
      "provenance": [],
      "collapsed_sections": [],
      "authorship_tag": "ABX9TyOWOumDQA9C8vpxzzXO4Oov",
      "include_colab_link": true
    },
    "kernelspec": {
      "name": "python3",
      "display_name": "Python 3"
    }
  },
  "cells": [
    {
      "cell_type": "markdown",
      "metadata": {
        "id": "view-in-github",
        "colab_type": "text"
      },
      "source": [
        "<a href=\"https://colab.research.google.com/github/MalcolmMashig/CS6501-Information-Retrieval-Project/blob/main/issue_query.ipynb\" target=\"_parent\"><img src=\"https://colab.research.google.com/assets/colab-badge.svg\" alt=\"Open In Colab\"/></a>"
      ]
    },
    {
      "cell_type": "markdown",
      "metadata": {
        "id": "9tNLiFSK1EoL"
      },
      "source": [
        "# Function: `issue_query`"
      ]
    },
    {
      "cell_type": "code",
      "metadata": {
        "id": "gVb5wCpG1Xsx"
      },
      "source": [
        "!pip install fake_useragent"
      ],
      "execution_count": 1,
      "outputs": []
    },
    {
      "cell_type": "code",
      "metadata": {
        "id": "8pa7_vYypzM5"
      },
      "source": [
        "import urllib\n",
        "import requests\n",
        "from fake_useragent import UserAgent\n",
        "from bs4 import BeautifulSoup\n",
        "import re\n",
        "import nltk\n",
        "nltk.download('words')\n",
        "nltk.download('stopwords')\n",
        "from nltk.corpus import stopwords"
      ],
      "execution_count": null,
      "outputs": []
    },
    {
      "cell_type": "code",
      "metadata": {
        "id": "NMOIlY1Gpuzr"
      },
      "source": [
        "def issue_query(query, n_results, scrape_websites):\n",
        "  ua = UserAgent()\n",
        "  google_url = \"https://www.google.com/search?q=\" + urllib.parse.quote_plus(query) + \"&num=\" + str(n_results)\n",
        "  response = requests.get(google_url, {\"User-Agent\": ua.random})\n",
        "  soup = BeautifulSoup(response.text, \"html.parser\")\n",
        "  result_div = soup.find_all('div', attrs = {'class': 'ZINbbc'})\n",
        "  links = []\n",
        "  titles = []\n",
        "  descriptions = []\n",
        "  for r in result_div:\n",
        "      try:\n",
        "          link = r.find('a', href = True)\n",
        "          title = r.find('div', attrs={'class':'vvjwJb'}).get_text()\n",
        "          description = r.find('div', attrs={'class':'s3v9rd'}).get_text()\n",
        "          if link != '' and title != '' and description != '': \n",
        "              links.append(link['href'])\n",
        "              titles.append(title)\n",
        "              descriptions.append(description)\n",
        "      except:\n",
        "          continue\n",
        "  to_remove = []\n",
        "  clean_links = []\n",
        "  for i, l in enumerate(links):\n",
        "      clean = re.search('\\/url\\?q\\=(.*)\\&sa',l)\n",
        "      if clean is None:\n",
        "          to_remove.append(i)\n",
        "          continue\n",
        "      clean_links.append(clean.group(1))\n",
        "  for x in to_remove:\n",
        "      del titles[x]\n",
        "      del descriptions[x]\n",
        "  if scrape_websites:\n",
        "    web_texts = []\n",
        "    words = set(nltk.corpus.words.words())\n",
        "    stop_words = stopwords.words('english')\n",
        "    for url in clean_links:\n",
        "        r = requests.get(url)\n",
        "        html = r.text\n",
        "        soup = BeautifulSoup(html, \"html5lib\")\n",
        "        text = soup.get_text()\n",
        "        text = text.replace('\\n', ' ')\n",
        "        new_text = \" \".join(w for w in nltk.wordpunct_tokenize(text)\n",
        "                            if (w.lower() in words)\n",
        "                            and (w.lower() not in stop_words)\n",
        "                            and (len(w.lower()) > 1))\n",
        "        web_texts.append(new_text)\n",
        "    return clean_links, titles, descriptions, web_texts\n",
        "  return clean_links, titles, descriptions"
      ],
      "execution_count": 3,
      "outputs": []
    },
    {
      "cell_type": "code",
      "metadata": {
        "colab": {
          "base_uri": "https://localhost:8080/"
        },
        "id": "pJdq3wGcv20G",
        "outputId": "e4aec478-0088-4ba5-f585-66ef0dd3f5e3"
      },
      "source": [
        "# example\n",
        "issue_query(query = \"'columbia'\", \n",
        "            n_results = 10, \n",
        "            scrape_websites = False)\n",
        "# scraping websites is very slow and should be avoided if possible"
      ],
      "execution_count": 4,
      "outputs": [
        {
          "output_type": "execute_result",
          "data": {
            "text/plain": [
              "(['https://www.columbia.com/',\n",
              "  'https://www.columbia.edu/',\n",
              "  'https://www.como.gov/',\n",
              "  'https://www.columbiasc.net/',\n",
              "  'https://www.colum.edu/',\n",
              "  'http://www.ccis.edu/',\n",
              "  'http://www.columbiarecords.com/',\n",
              "  'https://www.experiencecolumbiasc.com/'],\n",
              " ['Columbia Sportswear',\n",
              "  'Columbia University in the City of New York',\n",
              "  'City of Columbia, Missouri -',\n",
              "  'Welcome to the City of Columbia',\n",
              "  'Columbia College Chicago',\n",
              "  'Columbia College | Online & On-Campus College Classes',\n",
              "  'Columbia Records',\n",
              "  'Columbia SC: Things to Do, Restaurants, Hotels & Events'],\n",
              " [\"Best deals yet - 50% off select gear. Now is the time to get those Columbia jackets, pants, shoes and gear you've been needing.MenWomenSaleKids\",\n",
              "  'The Columbia Lions football team lifts a teammate into the air in celebration. Athletics · Two graduates wearing regalia\\xa0...\\nAbout · Admissions · Departments · Careers at Columbia',\n",
              "  'Browse Categories: City Government · Doing Business in Columbia · Living in Columbia · Visitors · City Services A-Z. CoMo mobile apps mobile website\\xa0...',\n",
              "  'Columbia Richland Fire Chief Aubrey D. Jenkins officially confirmed 16 new firefighters for the department as members of the 2020-02 CRFD Recruit Class\\xa0...',\n",
              "  'Columbia College Chicago is a private, nonprofit college offering a distinctive curriculum that blends creative and media arts, liberal arts, and business for nearly\\xa0...',\n",
              "  'Columbia College was founded in 1851, has a traditional campus, more than 30 venues nationwide, an evening program in Columbia, Mo., and an online\\xa0...',\n",
              "  'The Official Website of Columbia Records. ... COLUMBIA and the \"Walking Eye\" Design are registered trademarks of Sony Music Entertainment. Visit www.',\n",
              "  'Planning your vacation to Columbia SC? Find information on hotels, restaurants, things to do, attractions and events to help you plan your trip.'])"
            ]
          },
          "metadata": {
            "tags": []
          },
          "execution_count": 4
        }
      ]
    }
  ]
}